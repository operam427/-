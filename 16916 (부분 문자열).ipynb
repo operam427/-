{
 "cells": [
  {
   "cell_type": "markdown",
   "id": "e14ff8c3-91ad-4a66-b95d-5d203084d5dd",
   "metadata": {},
   "source": [
    "### 문제\n",
    "\n",
    "문자열 S의 부분 문자열이란, 문자열의 연속된 일부를 의미한다.\r\n",
    "\r\n",
    "예를 들어, \"aek\", \"joo\", \"ekj\"는 \"baekjoon\"의 부분 문자열이고, \"bak\", \"p\", \"oone\"는 부분 문자열이 아니다.\r\n",
    "\r\n",
    "문자열 S와 P가 주어졌을 때, P가 S의 부분 문자열인지 아닌지 알아보자."
   ]
  },
  {
   "cell_type": "markdown",
   "id": "2d4bb3c6-8169-4e44-b9be-55965e9bba91",
   "metadata": {},
   "source": [
    "### 입력\n",
    "\n",
    "첫째 줄에 문자열 S, 둘째 줄에 문자열 P가 주어진다. 두 문자열은 빈 문자열이 아니며, 길이는 100만을 넘지 않는다. 또, 알파벳 소문자로만 이루어져 있다."
   ]
  },
  {
   "cell_type": "markdown",
   "id": "9ff0ae9d-3243-4d20-990a-033a2bc42980",
   "metadata": {},
   "source": [
    "### 출력\n",
    "\n",
    "P가 S의 부분 문자열이면 1, 아니면 0을 출력한다."
   ]
  },
  {
   "cell_type": "code",
   "execution_count": 7,
   "id": "a8571f36-ee22-4860-8a9e-8ae671bf18f3",
   "metadata": {},
   "outputs": [
    {
     "name": "stdin",
     "output_type": "stream",
     "text": [
      " baekjoon\n",
      " oon\n"
     ]
    },
    {
     "name": "stdout",
     "output_type": "stream",
     "text": [
      "1\n"
     ]
    }
   ],
   "source": [
    "a = input()\n",
    "b = input()\n",
    "\n",
    "if b in a:\n",
    "\tprint(1)\n",
    "else:\n",
    "\tprint(0)"
   ]
  },
  {
   "cell_type": "code",
   "execution_count": 8,
   "id": "ef987f5b-211f-4e40-8b6e-0d46cdabc2cd",
   "metadata": {},
   "outputs": [
    {
     "name": "stdin",
     "output_type": "stream",
     "text": [
      " baekjoon\n",
      " bak\n"
     ]
    },
    {
     "name": "stdout",
     "output_type": "stream",
     "text": [
      "0\n"
     ]
    }
   ],
   "source": [
    "a = input()\n",
    "b = input()\n",
    "\n",
    "if b in a:\n",
    "\tprint(1)\n",
    "else:\n",
    "\tprint(0)"
   ]
  }
 ],
 "metadata": {
  "kernelspec": {
   "display_name": "Python 3 (ipykernel)",
   "language": "python",
   "name": "python3"
  },
  "language_info": {
   "codemirror_mode": {
    "name": "ipython",
    "version": 3
   },
   "file_extension": ".py",
   "mimetype": "text/x-python",
   "name": "python",
   "nbconvert_exporter": "python",
   "pygments_lexer": "ipython3",
   "version": "3.11.7"
  }
 },
 "nbformat": 4,
 "nbformat_minor": 5
}
