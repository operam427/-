{
 "cells": [
  {
   "cell_type": "markdown",
   "id": "78382e87-9e49-4ee4-95c1-9eb72a357841",
   "metadata": {},
   "source": [
    "### 문제\n",
    "\n",
    "N개의 수가 주어졌을 때, 이를 오름차순으로 정렬하는 프로그램을 작성하시오."
   ]
  },
  {
   "cell_type": "markdown",
   "id": "6840d1ec-01d0-4b5b-9747-930147b846eb",
   "metadata": {},
   "source": [
    "### 입력\n",
    "\n",
    "첫째 줄에 수의 개수 N(1 ≤ N ≤ 1,000,000)이 주어진다.\n",
    "\n",
    "둘째 줄부터 N개의 줄에는 수가 주어진다.\n",
    "\n",
    "이 수는 절댓값이 1,000,000보다 작거나 같은 정수이다.\n",
    "\n",
    "수는 중복되지 않는다."
   ]
  },
  {
   "cell_type": "markdown",
   "id": "ed11a5a2-4634-46ed-8a55-a055b98c4b49",
   "metadata": {},
   "source": [
    "### 출력\n",
    "\n",
    "첫째 줄부터 N개의 줄에 오름차순으로 정렬한 결과를 한 줄에 하나씩 출력한다."
   ]
  },
  {
   "cell_type": "code",
   "execution_count": 3,
   "id": "55a06a6c-0835-407b-81fc-b9b20da70ef6",
   "metadata": {},
   "outputs": [
    {
     "name": "stdin",
     "output_type": "stream",
     "text": [
      " 5\n",
      " 5\n",
      " 4\n",
      " 3\n",
      " 2\n",
      " 1\n"
     ]
    },
    {
     "name": "stdout",
     "output_type": "stream",
     "text": [
      "1\n",
      "2\n",
      "3\n",
      "4\n",
      "5\n"
     ]
    }
   ],
   "source": [
    "n = int(input())\n",
    "a = []\n",
    "\n",
    "for _ in range(n):\n",
    "    i = int(input())\n",
    "    a.append(i)\n",
    "\n",
    "a.sort()\n",
    "for j in a:\n",
    "    print(j)"
   ]
  },
  {
   "cell_type": "code",
   "execution_count": null,
   "id": "b8146f18-77b5-4dea-8dca-31c32d7cf5cc",
   "metadata": {},
   "outputs": [],
   "source": [
    "import sys\n",
    "\n",
    "n = int(sys.stdin.readline())\n",
    "a = []\n",
    "\n",
    "for _ in range(n):\n",
    "    i = int(sys.stdin.readline())\n",
    "    a.append(i)\n",
    "\n",
    "a.sort()\n",
    "for j in a:\n",
    "    print(j)"
   ]
  }
 ],
 "metadata": {
  "kernelspec": {
   "display_name": "Python 3 (ipykernel)",
   "language": "python",
   "name": "python3"
  },
  "language_info": {
   "codemirror_mode": {
    "name": "ipython",
    "version": 3
   },
   "file_extension": ".py",
   "mimetype": "text/x-python",
   "name": "python",
   "nbconvert_exporter": "python",
   "pygments_lexer": "ipython3",
   "version": "3.11.7"
  }
 },
 "nbformat": 4,
 "nbformat_minor": 5
}
