{
 "cells": [
  {
   "cell_type": "markdown",
   "id": "5e644bed-94c6-4acb-ac23-54b2e269a042",
   "metadata": {},
   "source": [
    "### 문제\n",
    "\n",
    "2차원 평면 위의 점 N개가 주어진다. 좌표를 x좌표가 증가하는 순으로, x좌표가 같으면 y좌표가 증가하는 순서로 정렬한 다음 출력하는 프로그램을 작성하시오."
   ]
  },
  {
   "cell_type": "markdown",
   "id": "d5b36f86-7a60-4c2c-b289-b954e9c9e2ac",
   "metadata": {},
   "source": [
    "### 입력\n",
    "\n",
    "첫째 줄에 점의 개수 N (1 ≤ N ≤ 100,000)이 주어진다.\n",
    "\n",
    "둘째 줄부터 N개의 줄에는 i번점의 위치 xi와 yi가 주어진다.\n",
    "\n",
    "(-100,000 ≤ xi, yi ≤ 100,000) 좌표는 항상 정수이고, 위치가 같은 두 점은 없다."
   ]
  },
  {
   "cell_type": "markdown",
   "id": "8ce2f038-797e-4ccd-954c-30e8c9de16bc",
   "metadata": {},
   "source": [
    "### 출력\n",
    "\n",
    "첫째 줄부터 N개의 줄에 점을 정렬한 결과를 출력한다."
   ]
  },
  {
   "cell_type": "code",
   "execution_count": 2,
   "id": "7fa663cc-6ce5-4522-bc6f-64ba8b13fc64",
   "metadata": {},
   "outputs": [
    {
     "name": "stdin",
     "output_type": "stream",
     "text": [
      " 5\n",
      " 3 4\n",
      " 1 1\n",
      " 1 -1\n",
      " 2 2\n",
      " 3 3\n"
     ]
    },
    {
     "name": "stdout",
     "output_type": "stream",
     "text": [
      "1 -1\n",
      "1 1\n",
      "2 2\n",
      "3 3\n",
      "3 4\n"
     ]
    }
   ],
   "source": [
    "## 1차 오답\n",
    "\n",
    "n = int(input())\n",
    "x = []\n",
    "y = []\n",
    "\n",
    "for _ in range(n):\n",
    "    a,b = map(int, input().split())\n",
    "    x.append(a)\n",
    "    y.append(b)\n",
    "\n",
    "x.sort()\n",
    "y.sort()\n",
    "\n",
    "for i in range(n):\n",
    "    print(\"{} {}\".format(x[i], y[i]))"
   ]
  },
  {
   "cell_type": "code",
   "execution_count": 7,
   "id": "2b1bb660-3253-4607-908d-3979d2551746",
   "metadata": {},
   "outputs": [
    {
     "name": "stdin",
     "output_type": "stream",
     "text": [
      " 5\n",
      " 3 4\n",
      " 1 1\n",
      " 1 -1\n",
      " 2 2\n",
      " 3 3\n"
     ]
    },
    {
     "name": "stdout",
     "output_type": "stream",
     "text": [
      "1 -1\n",
      "1 1\n",
      "2 2\n",
      "3 3\n",
      "3 4\n"
     ]
    }
   ],
   "source": [
    "## 2차 오답 (시간초과)\n",
    "\n",
    "n = int(input())\n",
    "x = []\n",
    "\n",
    "for _ in range(n):\n",
    "    a = tuple(map(int, input().split()))\n",
    "    x.append(a)\n",
    "    x.sort()\n",
    "\n",
    "for i in range(n):\n",
    "    print(*x[i])"
   ]
  },
  {
   "cell_type": "code",
   "execution_count": 9,
   "id": "8d03ec83-2af0-46b6-8d78-4309acca5c60",
   "metadata": {},
   "outputs": [
    {
     "name": "stdin",
     "output_type": "stream",
     "text": [
      " 5\n",
      " 3 4\n",
      " 1 1\n",
      " 1 -1\n",
      " 2 2\n",
      " 3 3\n"
     ]
    },
    {
     "name": "stdout",
     "output_type": "stream",
     "text": [
      "1 -1\n",
      "1 1\n",
      "2 2\n",
      "3 3\n",
      "3 4\n"
     ]
    }
   ],
   "source": [
    "# 정답\n",
    "\n",
    "import sys\n",
    "\n",
    "n = int(sys.stdin.readline())\n",
    "\n",
    "x = []\n",
    "\n",
    "for _ in range(n):\n",
    "    a, b = map(int, sys.stdin.readline().split())\n",
    "    x.append((a, b))\n",
    "x.sort()\n",
    "\n",
    "for i in range(n):\n",
    "    print(*x[i])"
   ]
  },
  {
   "cell_type": "code",
   "execution_count": null,
   "id": "0e93b631-a594-4209-9725-25ddd50388c0",
   "metadata": {},
   "outputs": [],
   "source": []
  },
  {
   "cell_type": "code",
   "execution_count": null,
   "id": "8bafb2e6-2163-40ec-ae55-6234f8236431",
   "metadata": {},
   "outputs": [],
   "source": []
  },
  {
   "cell_type": "code",
   "execution_count": null,
   "id": "308c514a-7e60-48ee-93e9-91c498551cc1",
   "metadata": {},
   "outputs": [],
   "source": []
  },
  {
   "cell_type": "code",
   "execution_count": null,
   "id": "7fa181d8-17e1-496d-8e6a-b35030ffd0df",
   "metadata": {},
   "outputs": [],
   "source": []
  }
 ],
 "metadata": {
  "kernelspec": {
   "display_name": "Python 3 (ipykernel)",
   "language": "python",
   "name": "python3"
  },
  "language_info": {
   "codemirror_mode": {
    "name": "ipython",
    "version": 3
   },
   "file_extension": ".py",
   "mimetype": "text/x-python",
   "name": "python",
   "nbconvert_exporter": "python",
   "pygments_lexer": "ipython3",
   "version": "3.11.7"
  }
 },
 "nbformat": 4,
 "nbformat_minor": 5
}
