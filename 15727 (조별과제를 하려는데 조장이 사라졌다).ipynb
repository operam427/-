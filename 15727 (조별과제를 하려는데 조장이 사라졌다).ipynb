{
 "cells": [
  {
   "cell_type": "markdown",
   "id": "04bfab99-5783-4a24-a44e-4615337c7112",
   "metadata": {},
   "source": [
    "### 문제\n",
    "\n",
    "3학년 1학기를 재학 중인 성우는 ‘빨간눈 초파리의 뒷다리 털의 개수와 파인애플 껍질의 이해’라는 과목을 수강 중이다.\n",
    "\n",
    "기말고사를 맞이하여 교수님은 수강생들에게 조별과제를 내주었고, 그 내용은 다음과 같다.\n",
    "\n",
    "중간고사 이전에 배운 빨간눈 초파리의 뒷다리 털의 개수를 구하는 방법을 이용해 파인애플 껍질의 두께를 구하는 공식을 과학적인 근거와 함께 A4용지 10장 이상으로 제출하시오. (30%)\n",
    "\n",
    "하지만 성우의 조 조장인 민건은 과제 내용을 듣자마자 집으로 도망쳐 버렸고, 성우는 민건이를 찾기 위해 떠난다.\n",
    "\n",
    "성우는 1분에 1에서 5까지의 거리를 이동할 수 있다.\n",
    "\n",
    "성우가 있는 곳으로부터 민건이의 집까지 거리가 주어졌을 때, 최대한 빨리 찾을 경우, 정확히 몇 분만에 민건이를 찾을 수 있는지 출력하는 프로그램을 작성하시오."
   ]
  },
  {
   "cell_type": "markdown",
   "id": "1e7a27d2-e3c7-4be9-9403-42fc8138f634",
   "metadata": {},
   "source": [
    "### 입력\n",
    "\n",
    "첫째 줄에 성우의 현재 위치와 민건이의 집까지의 거리 L(1 ≤ L ≤ 1,000,000)가 주어진다."
   ]
  },
  {
   "cell_type": "markdown",
   "id": "bb29141c-01b7-4e78-a4d1-8ab22b7bb11b",
   "metadata": {},
   "source": [
    "### 출력\n",
    "\n",
    "성우가 최소 t분만에 민건이를 찾을 수 있을 때, t 이상의 가장 작은 정수를 출력한다."
   ]
  },
  {
   "cell_type": "code",
   "execution_count": 10,
   "id": "559a0ff4-f5d7-4bee-9ce7-5a1489a8276e",
   "metadata": {},
   "outputs": [
    {
     "name": "stdin",
     "output_type": "stream",
     "text": [
      " 12\n"
     ]
    },
    {
     "name": "stdout",
     "output_type": "stream",
     "text": [
      "3\n"
     ]
    }
   ],
   "source": [
    "L = int(input())\n",
    "\n",
    "if L%5 == 0:\n",
    "    print(L//5)\n",
    "\n",
    "else:\n",
    "    print(L//5 + 1)"
   ]
  },
  {
   "cell_type": "code",
   "execution_count": 11,
   "id": "d5a33696-7017-434d-bdcc-0483e7fd757d",
   "metadata": {},
   "outputs": [
    {
     "name": "stdin",
     "output_type": "stream",
     "text": [
      " 12\n"
     ]
    },
    {
     "name": "stdout",
     "output_type": "stream",
     "text": [
      "3\n"
     ]
    }
   ],
   "source": [
    "print((int(input()) + 4) // 5)"
   ]
  },
  {
   "cell_type": "code",
   "execution_count": 12,
   "id": "2f948d07-df43-4909-b629-26c7c6f6a3cd",
   "metadata": {},
   "outputs": [
    {
     "name": "stdin",
     "output_type": "stream",
     "text": [
      " 12\n"
     ]
    },
    {
     "name": "stdout",
     "output_type": "stream",
     "text": [
      "3\n"
     ]
    }
   ],
   "source": [
    "L = int(input())\n",
    "\n",
    "print(L // 5 if L % 5 == 0 else L // 5 + 1)"
   ]
  }
 ],
 "metadata": {
  "kernelspec": {
   "display_name": "Python 3 (ipykernel)",
   "language": "python",
   "name": "python3"
  },
  "language_info": {
   "codemirror_mode": {
    "name": "ipython",
    "version": 3
   },
   "file_extension": ".py",
   "mimetype": "text/x-python",
   "name": "python",
   "nbconvert_exporter": "python",
   "pygments_lexer": "ipython3",
   "version": "3.11.7"
  }
 },
 "nbformat": 4,
 "nbformat_minor": 5
}
