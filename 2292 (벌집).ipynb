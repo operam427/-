{
 "cells": [
  {
   "cell_type": "markdown",
   "id": "c480d766-be86-46a2-ab00-805afc6c375d",
   "metadata": {},
   "source": [
    "### 문제\n",
    "\n",
    "위의 그림과 같이 육각형으로 이루어진 벌집이 있다.\n",
    "\n",
    "그림에서 보는 바와 같이 중앙의 방 1부터 시작해서 이웃하는 방에 돌아가면서 1씩 증가하는 번호를 주소로 매길 수 있다.\n",
    "\n",
    "숫자 N이 주어졌을 때, 벌집의 중앙 1에서 N번 방까지 최소 개수의 방을 지나서 갈 때 몇 개의 방을 지나가는지(시작과 끝을 포함하여)를 계산하는 프로그램을 작성하시오.\n",
    "\n",
    "예를 들면, 13까지는 3개, 58까지는 5개를 지난다."
   ]
  },
  {
   "cell_type": "markdown",
   "id": "a7752781-2cf9-4dbe-a87c-02de351fa8be",
   "metadata": {},
   "source": [
    "### 입력\n",
    "\n",
    "첫째 줄에 N(1 ≤ N ≤ 1,000,000,000)이 주어진다."
   ]
  },
  {
   "cell_type": "markdown",
   "id": "0c4cf021-1616-4222-9be1-0ec9b45194e3",
   "metadata": {},
   "source": [
    "### 출력\n",
    "\n",
    "입력으로 주어진 방까지 최소 개수의 방을 지나서 갈 때 몇 개의 방을 지나는지 출력한다."
   ]
  },
  {
   "cell_type": "code",
   "execution_count": 5,
   "id": "fcdfdc2e-b5ca-426c-9f2e-02a5fb4f3425",
   "metadata": {},
   "outputs": [
    {
     "name": "stdin",
     "output_type": "stream",
     "text": [
      " 37\n"
     ]
    },
    {
     "name": "stdout",
     "output_type": "stream",
     "text": [
      "4\n"
     ]
    }
   ],
   "source": [
    "n = int(input())\n",
    "\n",
    "r = 1\n",
    "l = 1\n",
    "\n",
    "while n > r:\n",
    "    r += 6*l\n",
    "    l += 1\n",
    "print(l)"
   ]
  }
 ],
 "metadata": {
  "kernelspec": {
   "display_name": "Python 3 (ipykernel)",
   "language": "python",
   "name": "python3"
  },
  "language_info": {
   "codemirror_mode": {
    "name": "ipython",
    "version": 3
   },
   "file_extension": ".py",
   "mimetype": "text/x-python",
   "name": "python",
   "nbconvert_exporter": "python",
   "pygments_lexer": "ipython3",
   "version": "3.11.7"
  }
 },
 "nbformat": 4,
 "nbformat_minor": 5
}
