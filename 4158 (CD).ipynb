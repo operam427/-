{
 "cells": [
  {
   "cell_type": "markdown",
   "id": "a7e2aa6d",
   "metadata": {},
   "source": [
    "### 문제\n",
    "\n",
    "상근이와 선영이는 동시에 가지고 있는 CD를 팔려고 한다. CD를 몇 개나 팔 수 있을까?"
   ]
  },
  {
   "cell_type": "markdown",
   "id": "9acbb570",
   "metadata": {},
   "source": [
    "### 입력\n",
    "\n",
    "입력은 여러 개의 테스트 케이스로 이루어져 있다.\n",
    "\n",
    "각 테스트 케이스의 첫째 줄에는 상근이가 가지고 있는 CD의 수 N, 선영이가 가지고 있는 CD의 수 M이 주어진다.\n",
    "\n",
    "N과 M은 최대 백만이다.\n",
    "\n",
    "다음 줄부터 N개 줄에는 상근이가 가지고 있는 CD의 번호가 오름차순으로 주어진다.\n",
    "\n",
    "다음 M개 줄에는 선영이가 가지고 있는 CD의 번호가 오름차순으로 주어진다.\n",
    "\n",
    "CD의 번호는 십억을 넘지 않는 양의 정수이다. 입력의 마지막 줄에는 0 0이 주어진다.\n",
    "\n",
    "상근이와 선영이가 같은 CD를 여러장 가지고 있는 경우는 없다."
   ]
  },
  {
   "cell_type": "markdown",
   "id": "82560bdd",
   "metadata": {},
   "source": [
    "### 출력\n",
    "\n",
    "두 사람이 동시에 가지고 있는 CD의 개수를 출력한다."
   ]
  },
  {
   "cell_type": "code",
   "execution_count": 10,
   "id": "3733e8b1",
   "metadata": {},
   "outputs": [
    {
     "name": "stdout",
     "output_type": "stream",
     "text": [
      "3 3\n",
      "1\n",
      "2\n",
      "3\n",
      "1\n",
      "2\n",
      "4\n",
      "2\n",
      "3 3\n",
      "1\n",
      "2\n",
      "3\n",
      "1\n",
      "2\n",
      "4\n",
      "2\n",
      "0 0\n"
     ]
    }
   ],
   "source": [
    "while True:\n",
    "    a = []\n",
    "    b = []\n",
    "    n, m = map(int, input().split())\n",
    "    \n",
    "    if n == 0 and m == 0:\n",
    "        break\n",
    "    else:\n",
    "        for _ in range(n):\n",
    "            a.append(int(input()))\n",
    "        for _ in range(m):\n",
    "            b.append(int(input()))\n",
    "\n",
    "        c = list(set(a)&set(b))\n",
    "        print(len(c))"
   ]
  }
 ],
 "metadata": {
  "kernelspec": {
   "display_name": "Python 3 (ipykernel)",
   "language": "python",
   "name": "python3"
  },
  "language_info": {
   "codemirror_mode": {
    "name": "ipython",
    "version": 3
   },
   "file_extension": ".py",
   "mimetype": "text/x-python",
   "name": "python",
   "nbconvert_exporter": "python",
   "pygments_lexer": "ipython3",
   "version": "3.11.3"
  }
 },
 "nbformat": 4,
 "nbformat_minor": 5
}
