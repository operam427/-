{
 "cells": [
  {
   "cell_type": "code",
   "execution_count": 8,
   "id": "f91f03b1-bc5a-4058-8790-48590f91c140",
   "metadata": {},
   "outputs": [
    {
     "name": "stdin",
     "output_type": "stream",
     "text": [
      " 4\n",
      " 1 3 11 8\n"
     ]
    },
    {
     "name": "stdout",
     "output_type": "stream",
     "text": [
      "3\n",
      "[3, 11, 8]\n"
     ]
    }
   ],
   "source": [
    "n_1 = int(input())\n",
    "n_2 = map(int, input().split())\n",
    "n_3 = []\n",
    "\n",
    "for i in n_2:\n",
    "    for j in range(2, i):\n",
    "        if i % j == 0:\n",
    "            break\n",
    "    n_3.append(i)\n",
    "    if 1 in n_3:\n",
    "        n_3.remove(1)\n",
    "\n",
    "print(len(n_3))\n",
    "print(n_3)"
   ]
  },
  {
   "cell_type": "markdown",
   "id": "411343af-de0c-4e3e-8a26-1f8de0664d2a",
   "metadata": {},
   "source": [
    "### 문제\n",
    "\n",
    "주어진 수 N개 중에서 소수가 몇 개인지 찾아서 출력하는 프로그램을 작성하시오."
   ]
  },
  {
   "cell_type": "markdown",
   "id": "d897cdd5-f991-4ca8-b030-bb7b316f60e5",
   "metadata": {},
   "source": [
    "### 입력\n",
    "\n",
    "첫 줄에 수의 개수 N이 주어진다.\n",
    "\n",
    "N은 100이하이다.\n",
    "\n",
    "다음으로 N개의 수가 주어지는데 수는 1,000 이하의 자연수이다."
   ]
  },
  {
   "cell_type": "markdown",
   "id": "e19dfac9-2125-450f-86ba-1bbc6c382279",
   "metadata": {},
   "source": [
    "### 출력\n",
    "\n",
    "주어진 수들 중 소수의 개수를 출력한다."
   ]
  },
  {
   "cell_type": "code",
   "execution_count": 18,
   "id": "408cf6bd-03d3-4506-980d-c4f16804b637",
   "metadata": {},
   "outputs": [
    {
     "name": "stdin",
     "output_type": "stream",
     "text": [
      " 4\n",
      " 1 3 5 7\n"
     ]
    },
    {
     "name": "stdout",
     "output_type": "stream",
     "text": [
      "3\n",
      "[3, 5, 7]\n"
     ]
    }
   ],
   "source": [
    "n_1 = int(input())\n",
    "n_2 = map(int, input().split())\n",
    "n_3 = []\n",
    "\n",
    "for i in n_2:\n",
    "    a = 0\n",
    "    for j in range(2, i): \n",
    "        if i % j == 0:\n",
    "            a += 1\n",
    "        else:\n",
    "            pass\n",
    "\n",
    "    \n",
    "    if a == 0:        \n",
    "        n_3.append(i)\n",
    "\n",
    "    if 1 in n_3:\n",
    "        n_3.remove(1)\n",
    "\n",
    "print(len(n_3))\n",
    "print(n_3)"
   ]
  }
 ],
 "metadata": {
  "kernelspec": {
   "display_name": "Python 3 (ipykernel)",
   "language": "python",
   "name": "python3"
  },
  "language_info": {
   "codemirror_mode": {
    "name": "ipython",
    "version": 3
   },
   "file_extension": ".py",
   "mimetype": "text/x-python",
   "name": "python",
   "nbconvert_exporter": "python",
   "pygments_lexer": "ipython3",
   "version": "3.11.7"
  }
 },
 "nbformat": 4,
 "nbformat_minor": 5
}
