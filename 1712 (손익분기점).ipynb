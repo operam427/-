{
 "cells": [
  {
   "cell_type": "markdown",
   "id": "6511bf7f-4a7b-4a28-bb59-1604f55ea0b1",
   "metadata": {},
   "source": [
    "### 문제\n",
    "\n",
    "월드전자는 노트북을 제조하고 판매하는 회사이다. 노트북 판매 대수에 상관없이 매년 임대료, 재산세, 보험료, 급여 등 A만원의 고정 비용이 들며, 한 대의 노트북을 생산하는 데에는 재료비와 인건비 등 총 B만원의 가변 비용이 든다고 한다.\r\n",
    "\r\n",
    "예를 들어 A=1,000, B=70이라고 하자. 이 경우 노트북을 한 대 생산하는 데는 총 1,070만원이 들며, 열 대 생산하는 데는 총 1,700만원이 든다.\r\n",
    "\r\n",
    "노트북 가격이 C만원으로 책정되었다고 한다. 일반적으로 생산 대수를 늘려 가다 보면 어느 순간 총 수입(판매비용)이 총 비용(=고정비용+가변비용)보다 많아지게 된다. 최초로 총 수입이 총 비용보다 많아져 이익이 발생하는 지점을 손익분기점(BREAK-EVEN POINT)이라고 한다.\r\n",
    "\r\n",
    "A, B, C가 주어졌을 때, 손익분기점을 구하는 프로그램을 작성하시오."
   ]
  },
  {
   "cell_type": "markdown",
   "id": "4781a519-f827-4b87-a6c0-510bc3c1e03b",
   "metadata": {},
   "source": [
    "### 입력\n",
    "\n",
    "첫째 줄에 A, B, C가 빈 칸을 사이에 두고 순서대로 주어진다. A, B, C는 21억 이하의 자연수이다."
   ]
  },
  {
   "cell_type": "markdown",
   "id": "bc306ef1-3dd6-466b-afbc-c47b7b7195e6",
   "metadata": {},
   "source": [
    "### 출력\n",
    "\n",
    "첫 번째 줄에 손익분기점 즉 최초로 이익이 발생하는 판매량을 출력한다. 손익분기점이 존재하지 않으면 -1을 출력한다."
   ]
  },
  {
   "cell_type": "code",
   "execution_count": 15,
   "id": "377fd409-e13d-4303-8b88-44c77f4f6c91",
   "metadata": {},
   "outputs": [
    {
     "name": "stdin",
     "output_type": "stream",
     "text": [
      " 2100000000 9 10\n"
     ]
    },
    {
     "name": "stdout",
     "output_type": "stream",
     "text": [
      "2100000001\n"
     ]
    }
   ],
   "source": [
    "A, B, C = map(int, input().split())\n",
    "\n",
    "try:\n",
    "    x = int((A / (C-B))+1)\n",
    "    \n",
    "    if x <= 0 :\n",
    "        print(-1)\n",
    "    else:\n",
    "        print(x)\n",
    "\n",
    "except :\n",
    "    print(-1)"
   ]
  },
  {
   "cell_type": "code",
   "execution_count": 14,
   "id": "0282f834-3099-4329-9f68-56feb2d3d221",
   "metadata": {},
   "outputs": [
    {
     "name": "stdin",
     "output_type": "stream",
     "text": [
      " 1000 70 170\n"
     ]
    },
    {
     "name": "stdout",
     "output_type": "stream",
     "text": [
      "11\n"
     ]
    }
   ],
   "source": [
    "# 연구실 선배 풀이\n",
    "\n",
    "import math\n",
    "A, B, C = map(int, input().split())\n",
    "\n",
    "if B>=C:\n",
    "    print(-1)\n",
    "else:\n",
    "    if (A%(C-B) == 0):\n",
    "        print(int((A/(C-B))+1))\n",
    "    else:\n",
    "        print(math.ceil((A/(C-B))))"
   ]
  },
  {
   "cell_type": "code",
   "execution_count": null,
   "id": "32957b3b-fdb1-45be-bc9a-233dc29b672e",
   "metadata": {},
   "outputs": [],
   "source": []
  }
 ],
 "metadata": {
  "kernelspec": {
   "display_name": "Python 3 (ipykernel)",
   "language": "python",
   "name": "python3"
  },
  "language_info": {
   "codemirror_mode": {
    "name": "ipython",
    "version": 3
   },
   "file_extension": ".py",
   "mimetype": "text/x-python",
   "name": "python",
   "nbconvert_exporter": "python",
   "pygments_lexer": "ipython3",
   "version": "3.11.7"
  }
 },
 "nbformat": 4,
 "nbformat_minor": 5
}
