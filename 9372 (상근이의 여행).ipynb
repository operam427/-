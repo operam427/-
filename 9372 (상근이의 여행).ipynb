{
 "cells": [
  {
   "cell_type": "markdown",
   "id": "f5ec797a",
   "metadata": {},
   "source": [
    "### 문제\n",
    "\n",
    "상근이는 겨울방학을 맞아 N개국을 여행하면서 자아를 찾기로 마음먹었다. \n",
    "\n",
    "하지만 상근이는 새로운 비행기를 무서워하기 때문에, 최대한 적은 종류의 비행기를 타고 국가들을 이동하려고 한다.\n",
    "\n",
    "이번 방학 동안의 비행 스케줄이 주어졌을 때, 상근이가 가장 적은 종류의 비행기를 타고 모든 국가들을 여행할 수 있도록 도와주자.\n",
    "\n",
    "상근이가 한 국가에서 다른 국가로 이동할 때 다른 국가를 거쳐 가도(심지어 이미 방문한 국가라도) 된다."
   ]
  },
  {
   "cell_type": "markdown",
   "id": "7b56f8e9",
   "metadata": {},
   "source": [
    "### 입력\n",
    "\n",
    "첫 번째 줄에는 테스트 케이스의 수 T(T ≤ 100)가 주어지고,\n",
    "\n",
    "각 테스트 케이스마다 다음과 같은 정보가 주어진다.\n",
    "\n",
    "첫 번째 줄에는 국가의 수 N(2 ≤ N ≤ 1 000)과 비행기의 종류 M(1 ≤ M ≤ 10 000) 가 주어진다.\n",
    "\n",
    "이후 M개의 줄에 a와 b 쌍들이 입력된다. a와 b를 왕복하는 비행기가 있다는 것을 의미한다. (1 ≤ a, b ≤ n; a ≠ b)\n",
    "\n",
    "주어지는 비행 스케줄은 항상 연결 그래프를 이룬다."
   ]
  },
  {
   "cell_type": "markdown",
   "id": "5e3aae8e",
   "metadata": {},
   "source": [
    "###  출력\n",
    "\n",
    "테스트 케이스마다 한 줄을 출력한다.\n",
    "\n",
    "상근이가 모든 국가를 여행하기 위해 타야 하는 비행기 종류의 최소 개수를 출력한다."
   ]
  },
  {
   "cell_type": "code",
   "execution_count": 26,
   "id": "a70ec9e4",
   "metadata": {},
   "outputs": [
    {
     "name": "stdout",
     "output_type": "stream",
     "text": [
      "2\n",
      "3 3\n",
      "1 2\n",
      "2 3\n",
      "1 3\n",
      "2\n",
      "5 4\n",
      "2 1\n",
      "2 3\n",
      "4 3\n",
      "4 5\n",
      "4\n"
     ]
    }
   ],
   "source": [
    "t = int(input())\n",
    "\n",
    "for _ in range(t):\n",
    "    n, m = map(int, input().split())\n",
    "    for _ in range(m):\n",
    "        a, b = map(int, input().split())\n",
    "    print(n-1)"
   ]
  }
 ],
 "metadata": {
  "kernelspec": {
   "display_name": "Python 3 (ipykernel)",
   "language": "python",
   "name": "python3"
  },
  "language_info": {
   "codemirror_mode": {
    "name": "ipython",
    "version": 3
   },
   "file_extension": ".py",
   "mimetype": "text/x-python",
   "name": "python",
   "nbconvert_exporter": "python",
   "pygments_lexer": "ipython3",
   "version": "3.11.3"
  }
 },
 "nbformat": 4,
 "nbformat_minor": 5
}
