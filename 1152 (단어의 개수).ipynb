{
 "cells": [
  {
   "cell_type": "markdown",
   "id": "bbda4bd6-7b35-41cf-a82c-a82ef8d7abb0",
   "metadata": {},
   "source": [
    "### 문제\n",
    "\n",
    "영어 대소문자와 공백으로 이루어진 문자열이 주어진다. 이 문자열에는 몇 개의 단어가 있을까?\n",
    "\n",
    "이를 구하는 프로그램을 작성하시오. 단, 한 단어가 여러 번 등장하면 등장한 횟수만큼 모두 세어야 한다."
   ]
  },
  {
   "cell_type": "markdown",
   "id": "d28df554-c9e7-4fc5-b679-aa80608d6b50",
   "metadata": {},
   "source": [
    "### 입력\n",
    "\n",
    "첫 줄에 영어 대소문자와 공백으로 이루어진 문자열이 주어진다.\n",
    "\n",
    "이 문자열의 길이는 1,000,000을 넘지 않는다.\n",
    "\n",
    "단어는 공백 한 개로 구분되며, 공백이 연속해서 나오는 경우는 없다.\n",
    "\n",
    "또한 문자열은 공백으로 시작하거나 끝날 수 있다."
   ]
  },
  {
   "cell_type": "markdown",
   "id": "75979e02-fddf-4a28-baf5-82cd5875d51e",
   "metadata": {},
   "source": [
    "### 출력\n",
    "\n",
    "첫째 줄에 단어의 개수를 출력한다."
   ]
  },
  {
   "cell_type": "code",
   "execution_count": 1,
   "id": "6f559ac5-30b6-44d8-8bf0-0d442e9e87c6",
   "metadata": {},
   "outputs": [
    {
     "name": "stdin",
     "output_type": "stream",
     "text": [
      " The Curious Case of Benjamin Button\n"
     ]
    },
    {
     "name": "stdout",
     "output_type": "stream",
     "text": [
      "6\n"
     ]
    }
   ],
   "source": [
    "sentence = input().split()\n",
    "print(len(sentence))"
   ]
  }
 ],
 "metadata": {
  "kernelspec": {
   "display_name": "Python 3 (ipykernel)",
   "language": "python",
   "name": "python3"
  },
  "language_info": {
   "codemirror_mode": {
    "name": "ipython",
    "version": 3
   },
   "file_extension": ".py",
   "mimetype": "text/x-python",
   "name": "python",
   "nbconvert_exporter": "python",
   "pygments_lexer": "ipython3",
   "version": "3.11.7"
  }
 },
 "nbformat": 4,
 "nbformat_minor": 5
}
